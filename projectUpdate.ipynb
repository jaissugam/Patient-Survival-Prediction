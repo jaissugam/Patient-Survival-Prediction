{
 "cells": [
  {
   "cell_type": "code",
   "execution_count": 2,
   "metadata": {},
   "outputs": [],
   "source": [
    "import pandas as pd\n",
    "import numpy as np"
   ]
  },
  {
   "cell_type": "code",
   "execution_count": 3,
   "metadata": {},
   "outputs": [
    {
     "name": "stderr",
     "output_type": "stream",
     "text": [
      "C:\\Users\\SUGAM\\AppData\\Local\\Temp/ipykernel_3824/1734991675.py:7: FutureWarning: Dropping of nuisance columns in DataFrame reductions (with 'numeric_only=None') is deprecated; in a future version this will raise TypeError.  Select only valid columns before calling the reduction.\n",
      "  df=df.fillna(df.median()) #Mean imputation for numeric features\n"
     ]
    }
   ],
   "source": [
    "df=pd.read_csv('survival.csv',header=0)\n",
    "# Dropping irrelevant columns\n",
    "df.drop(['encounter_id','patient_id','hospital_id','icu_id','Unnamed: 83'],inplace=True,axis=1)\n",
    "# Dealing with negative probabilities\n",
    "df.drop(df[(df['apache_4a_hospital_death_prob'] <0)].index, inplace=True)\n",
    "df.drop(df[(df['apache_4a_icu_death_prob'] <0)].index, inplace=True)\n",
    "df=df.fillna(df.median()) #Mean imputation for numeric features\n",
    "df = df.fillna(df.mode().iloc[0]) # Mode imputation for categorical features\n",
    "# Dropping more columns\n",
    "df.drop(['aids','leukemia','lymphoma'],inplace=True,axis=1)\n"
   ]
  },
  {
   "cell_type": "code",
   "execution_count": 4,
   "metadata": {},
   "outputs": [
    {
     "name": "stderr",
     "output_type": "stream",
     "text": [
      "C:\\Users\\SUGAM\\AppData\\Local\\Temp/ipykernel_3824/317258353.py:5: SettingWithCopyWarning: \n",
      "A value is trying to be set on a copy of a slice from a DataFrame\n",
      "\n",
      "See the caveats in the documentation: https://pandas.pydata.org/pandas-docs/stable/user_guide/indexing.html#returning-a-view-versus-a-copy\n",
      "  df[col][(df[col] > 3*uq)] = 3*uq\n",
      "C:\\Users\\SUGAM\\AppData\\Local\\Temp/ipykernel_3824/317258353.py:7: SettingWithCopyWarning: \n",
      "A value is trying to be set on a copy of a slice from a DataFrame\n",
      "\n",
      "See the caveats in the documentation: https://pandas.pydata.org/pandas-docs/stable/user_guide/indexing.html#returning-a-view-versus-a-copy\n",
      "  df[col][(df[col] < 0.3*lq)] = 0.3*lq\n"
     ]
    }
   ],
   "source": [
    "# Outlier treatment\n",
    "for col in df.columns:\n",
    "    if df[col].dtype=='int64' or df[col].dtype=='float64':\n",
    "        uq=np.percentile(df[col],[99])[0] #Upper Quartile\n",
    "        df[col][(df[col] > 3*uq)] = 3*uq\n",
    "        lq=np.percentile(df[col],[1])[0] #Lower quartile\n",
    "        df[col][(df[col] < 0.3*lq)] = 0.3*lq\n",
    "\n",
    "#Generating dummy variables\n",
    "df=pd.get_dummies(df, columns=['ethnicity','gender','icu_admit_source','icu_stay_type','icu_type','apache_3j_bodysystem','apache_2_bodysystem'],drop_first=True)"
   ]
  },
  {
   "cell_type": "code",
   "execution_count": 5,
   "metadata": {},
   "outputs": [],
   "source": [
    "#Basic model\n",
    "X=df.loc[:,df.columns!='hospital_death']\n",
    "Y=df['hospital_death']"
   ]
  },
  {
   "cell_type": "code",
   "execution_count": 6,
   "metadata": {},
   "outputs": [],
   "source": [
    "from sklearn.model_selection import train_test_split,KFold,cross_val_score,StratifiedKFold\n",
    "from sklearn.linear_model import LogisticRegression\n",
    "from sklearn.metrics import classification_report\n",
    "from sklearn.preprocessing import StandardScaler\n",
    "scaler=StandardScaler()\n",
    "scaler.fit(X)\n",
    "X=scaler.transform(X)\n",
    "X_train,X_test,Y_train,Y_test=train_test_split(X,Y,test_size=0.3,random_state=42)\n"
   ]
  },
  {
   "cell_type": "code",
   "execution_count": 7,
   "metadata": {},
   "outputs": [],
   "source": [
    "def cross_val(model,X,Y):\n",
    "    cfv = StratifiedKFold(n_splits=10, random_state=5, shuffle=True)\n",
    "    scores = cross_val_score(model, X, Y, scoring='f1', cv=cfv, n_jobs=-1)\n",
    "    scores1 = cross_val_score(model, X, Y, scoring='precision', cv=cfv, n_jobs=-1)\n",
    "    scores2 = cross_val_score(model, X, Y, scoring='recall', cv=cfv, n_jobs=-1)\n",
    "    print(\"Precison Score: \",np.mean(scores1))\n",
    "    print(\"Recall Score: \",np.mean(scores2))\n",
    "    print(\"F1 Score: \",np.mean(scores),'\\n')"
   ]
  },
  {
   "cell_type": "code",
   "execution_count": 16,
   "metadata": {},
   "outputs": [
    {
     "name": "stdout",
     "output_type": "stream",
     "text": [
      "Stratified 10 fold cross validation scores:\n",
      "Precison Score:  0.6562712698379758\n",
      "Recall Score:  0.2848587797563325\n",
      "F1 Score:  0.39716064511894594 \n",
      "\n",
      "              precision    recall  f1-score   support\n",
      "\n",
      "           0       0.94      0.99      0.96     24443\n",
      "           1       0.64      0.28      0.39      2264\n",
      "\n",
      "    accuracy                           0.93     26707\n",
      "   macro avg       0.79      0.63      0.67     26707\n",
      "weighted avg       0.91      0.93      0.91     26707\n",
      "\n"
     ]
    },
    {
     "name": "stderr",
     "output_type": "stream",
     "text": [
      "c:\\Python39\\lib\\site-packages\\sklearn\\linear_model\\_logistic.py:444: ConvergenceWarning: lbfgs failed to converge (status=1):\n",
      "STOP: TOTAL NO. of ITERATIONS REACHED LIMIT.\n",
      "\n",
      "Increase the number of iterations (max_iter) or scale the data as shown in:\n",
      "    https://scikit-learn.org/stable/modules/preprocessing.html\n",
      "Please also refer to the documentation for alternative solver options:\n",
      "    https://scikit-learn.org/stable/modules/linear_model.html#logistic-regression\n",
      "  n_iter_i = _check_optimize_result(\n"
     ]
    }
   ],
   "source": [
    "#Logistic Regression\n",
    "lrm=LogisticRegression(random_state=42)\n",
    "print('Stratified 10 fold cross validation scores:')\n",
    "cross_val(lrm,X,Y)\n",
    "lrm.fit(X_train,Y_train)\n",
    "print(classification_report(Y_test,lrm.predict(X_test)))\n"
   ]
  },
  {
   "cell_type": "code",
   "execution_count": 17,
   "metadata": {},
   "outputs": [],
   "source": [
    "#Undersampling\n",
    "from imblearn.under_sampling import ClusterCentroids\n",
    "cc=ClusterCentroids(sampling_strategy='majority',random_state=52)\n",
    "X_under,Y_under=cc.fit_resample(X,Y)"
   ]
  },
  {
   "cell_type": "code",
   "execution_count": 18,
   "metadata": {},
   "outputs": [
    {
     "name": "stdout",
     "output_type": "stream",
     "text": [
      "Stratified 10 fold cross validation scores:\n",
      "Precison Score:  0.7685631082321673\n",
      "Recall Score:  0.7542709890012629\n",
      "F1 Score:  0.7613182873773129 \n",
      "\n",
      "              precision    recall  f1-score   support\n",
      "\n",
      "           0       0.75      0.78      0.76      2282\n",
      "           1       0.77      0.75      0.76      2319\n",
      "\n",
      "    accuracy                           0.76      4601\n",
      "   macro avg       0.76      0.76      0.76      4601\n",
      "weighted avg       0.76      0.76      0.76      4601\n",
      "\n"
     ]
    },
    {
     "name": "stderr",
     "output_type": "stream",
     "text": [
      "c:\\Python39\\lib\\site-packages\\sklearn\\linear_model\\_logistic.py:444: ConvergenceWarning: lbfgs failed to converge (status=1):\n",
      "STOP: TOTAL NO. of ITERATIONS REACHED LIMIT.\n",
      "\n",
      "Increase the number of iterations (max_iter) or scale the data as shown in:\n",
      "    https://scikit-learn.org/stable/modules/preprocessing.html\n",
      "Please also refer to the documentation for alternative solver options:\n",
      "    https://scikit-learn.org/stable/modules/linear_model.html#logistic-regression\n",
      "  n_iter_i = _check_optimize_result(\n"
     ]
    }
   ],
   "source": [
    "lrm1=LogisticRegression(random_state=42)\n",
    "print('Stratified 10 fold cross validation scores:')\n",
    "cross_val(lrm1,X_under,Y_under)\n",
    "X_train,X_test,Y_train,Y_test=train_test_split(X_under,Y_under,test_size=0.3,random_state=42)\n",
    "lrm1.fit(X_train,Y_train)\n",
    "print(classification_report(Y_test,lrm1.predict(X_test)))"
   ]
  },
  {
   "cell_type": "code",
   "execution_count": 8,
   "metadata": {},
   "outputs": [],
   "source": [
    "#Oversampling\n",
    "from imblearn.over_sampling import SMOTE\n",
    "X_new=X.astype(np.uint8)\n",
    "Y_new=Y.astype(np.uint8)\n",
    "smt=SMOTE(sampling_strategy='minority',k_neighbors=5,random_state=42)\n",
    "X_over,Y_over=smt.fit_resample(X_new,Y_new)"
   ]
  },
  {
   "cell_type": "code",
   "execution_count": 9,
   "metadata": {},
   "outputs": [
    {
     "name": "stdout",
     "output_type": "stream",
     "text": [
      "Stratified 10 fold cross validation scores:\n",
      "Precison Score:  0.9248638821213564\n",
      "Recall Score:  0.8776947863577934\n",
      "F1 Score:  0.9006453857958698 \n",
      "\n"
     ]
    },
    {
     "name": "stderr",
     "output_type": "stream",
     "text": [
      "c:\\Python39\\lib\\site-packages\\sklearn\\linear_model\\_logistic.py:444: ConvergenceWarning: lbfgs failed to converge (status=1):\n",
      "STOP: TOTAL NO. of ITERATIONS REACHED LIMIT.\n",
      "\n",
      "Increase the number of iterations (max_iter) or scale the data as shown in:\n",
      "    https://scikit-learn.org/stable/modules/preprocessing.html\n",
      "Please also refer to the documentation for alternative solver options:\n",
      "    https://scikit-learn.org/stable/modules/linear_model.html#logistic-regression\n",
      "  n_iter_i = _check_optimize_result(\n"
     ]
    },
    {
     "name": "stdout",
     "output_type": "stream",
     "text": [
      "              precision    recall  f1-score   support\n",
      "\n",
      "           0       0.89      0.93      0.91     24265\n",
      "           1       0.92      0.89      0.90     24548\n",
      "\n",
      "    accuracy                           0.91     48813\n",
      "   macro avg       0.91      0.91      0.91     48813\n",
      "weighted avg       0.91      0.91      0.91     48813\n",
      "\n"
     ]
    }
   ],
   "source": [
    "lrm2=LogisticRegression(random_state=42,max_iter=150)\n",
    "print('Stratified 10 fold cross validation scores:')\n",
    "cross_val(lrm2,X_over,Y_over)\n",
    "X_train,X_test,Y_train,Y_test=train_test_split(X_over,Y_over,test_size=0.3,random_state=42)\n",
    "lrm2.fit(X_train,Y_train)\n",
    "print(classification_report(Y_test,lrm2.predict(X_test)))"
   ]
  },
  {
   "cell_type": "code",
   "execution_count": 10,
   "metadata": {},
   "outputs": [],
   "source": [
    "#Combined resampling\n",
    "from imblearn.combine import SMOTETomek\n",
    "stmk=SMOTETomek(random_state=42)\n",
    "X_comb,Y_comb=stmk.fit_resample(X_new,Y_new)"
   ]
  },
  {
   "cell_type": "code",
   "execution_count": null,
   "metadata": {},
   "outputs": [],
   "source": [
    "lrm3=LogisticRegression(random_state=42,max_iter=150)\n",
    "print('Stratified 10 fold cross validation scores:')\n",
    "cross_val(lrm3,X_comb,Y_comb)\n",
    "X_train,X_test,Y_train,Y_test=train_test_split(X_comb,Y_comb,test_size=0.3,random_state=42)\n",
    "lrm3.fit(X_train,Y_train)\n",
    "print(classification_report(Y_test,lrm3.predict(X_test)))"
   ]
  }
 ],
 "metadata": {
  "kernelspec": {
   "display_name": "Python 3.9.6 64-bit",
   "language": "python",
   "name": "python3"
  },
  "language_info": {
   "codemirror_mode": {
    "name": "ipython",
    "version": 3
   },
   "file_extension": ".py",
   "mimetype": "text/x-python",
   "name": "python",
   "nbconvert_exporter": "python",
   "pygments_lexer": "ipython3",
   "version": "3.9.6"
  },
  "orig_nbformat": 4,
  "vscode": {
   "interpreter": {
    "hash": "81794d4967e6c3204c66dcd87b604927b115b27c00565d3d43f05ba2f3a2cb0d"
   }
  }
 },
 "nbformat": 4,
 "nbformat_minor": 2
}
